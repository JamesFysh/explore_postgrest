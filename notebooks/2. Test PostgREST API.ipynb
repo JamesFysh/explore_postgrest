{
 "cells": [
  {
   "cell_type": "code",
   "execution_count": null,
   "metadata": {},
   "outputs": [],
   "source": [
    "import requests"
   ]
  },
  {
   "cell_type": "code",
   "execution_count": null,
   "metadata": {},
   "outputs": [],
   "source": [
    "# Query for some users and their purchase history\n",
    "resp = requests.get(\n",
    "    url=(\"http://server:3000/\"\n",
    "         \"end_user?select=first_name,last_name,\"\n",
    "         \"purchases:purchase(transaction_date,count,item_cost,inventory(item_name))&\"\n",
    "         \"limit=5\")\n",
    ")\n",
    "\n",
    "for entry in resp.json():\n",
    "    print(f\"{entry['first_name']} {entry['last_name']} - purchase history\")\n",
    "    for purchase in entry['purchases']:\n",
    "        dt = purchase['transaction_date']\n",
    "        n_item, item_cost = purchase['count'], purchase['item_cost']\n",
    "        total_cost = n_item * item_cost\n",
    "        item_name = purchase['inventory']['item_name']\n",
    "        print(f\" - {dt}: {n_item} {item_name} at ${item_cost:.02f} each, ${total_cost:.02f} total\")\n",
    "    print()"
   ]
  },
  {
   "cell_type": "code",
   "execution_count": null,
   "metadata": {},
   "outputs": [],
   "source": [
    "# Only show purchases where the item cost $600 or more\n",
    "resp = requests.get(\n",
    "    url=(\"http://server:3000/\"\n",
    "         \"end_user?select=first_name,last_name,\"\n",
    "         \"purchases:purchase(transaction_date,count,item_cost,inventory(item_name))&\"\n",
    "         \"purchase.item_cost=gte.600&\"\n",
    "         \"limit=5\")\n",
    ")\n",
    "\n",
    "for entry in resp.json():\n",
    "    print(f\"{entry['first_name']} {entry['last_name']} - purchase history\")\n",
    "    for purchase in entry['purchases']:\n",
    "        dt = purchase['transaction_date']\n",
    "        n_item, item_cost = purchase['count'], purchase['item_cost']\n",
    "        total_cost = n_item * item_cost\n",
    "        item_name = purchase['inventory']['item_name']\n",
    "        print(f\" - {dt}: {n_item} {item_name} at ${item_cost:.02f} each, ${total_cost:.02f} total\")\n",
    "    print()"
   ]
  },
  {
   "cell_type": "code",
   "execution_count": null,
   "metadata": {},
   "outputs": [],
   "source": [
    "# Total sales for January 2019\n",
    "resp = requests.get(\n",
    "    url=(\"http://server:3000/\"\n",
    "         \"purchase?select=count,item_cost,transaction_date&\"\n",
    "         \"and=(transaction_date.gte.'2019-01-01',\"\n",
    "         \"transaction_date.lt.'2019-02-01')\")\n",
    ")\n",
    "assert len({\n",
    "    entry['transaction_date']\n",
    "    for entry in resp.json()\n",
    "}) <= 31\n",
    "\n",
    "total = sum([e['count']*e['item_cost'] for e in resp.json()])\n",
    "print(f\"Total sales for Jan-2019: ${total:,.2f}\")"
   ]
  },
  {
   "cell_type": "code",
   "execution_count": null,
   "metadata": {},
   "outputs": [],
   "source": []
  },
  {
   "cell_type": "code",
   "execution_count": null,
   "metadata": {},
   "outputs": [],
   "source": []
  }
 ],
 "metadata": {
  "kernelspec": {
   "display_name": "Python 3",
   "language": "python",
   "name": "python3"
  },
  "language_info": {
   "codemirror_mode": {
    "name": "ipython",
    "version": 3
   },
   "file_extension": ".py",
   "mimetype": "text/x-python",
   "name": "python",
   "nbconvert_exporter": "python",
   "pygments_lexer": "ipython3",
   "version": "3.7.3"
  }
 },
 "nbformat": 4,
 "nbformat_minor": 2
}
