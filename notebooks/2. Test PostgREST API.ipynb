{
 "cells": [
  {
   "cell_type": "code",
   "execution_count": null,
   "metadata": {},
   "outputs": [],
   "source": [
    "import requests"
   ]
  },
  {
   "cell_type": "code",
   "execution_count": null,
   "metadata": {},
   "outputs": [],
   "source": [
    "# Query for some users and their purchase history\n",
    "resp = requests.get(\n",
    "    url=(\"http://server:3000/\"\n",
    "         \"end_user?select=first_name,last_name,\"\n",
    "         \"purchases:purchase(transaction_date,count,item_cost,inventory(item_name))&\"\n",
    "         \"limit=5\")\n",
    ")\n",
    "\n",
    "for entry in resp.json():\n",
    "    print(f\"{entry['first_name']} {entry['last_name']} - purchase history\")\n",
    "    for purchase in entry['purchases']:\n",
    "        dt = purchase['transaction_date']\n",
    "        n_item, item_cost = purchase['count'], purchase['item_cost']\n",
    "        total_cost = n_item * item_cost\n",
    "        item_name = purchase['inventory']['item_name']\n",
    "        print(f\" - {dt}: {n_item} {item_name} at ${item_cost:.02f} each, ${total_cost:.02f} total\")\n",
    "    print()"
   ]
  },
  {
   "cell_type": "code",
   "execution_count": null,
   "metadata": {},
   "outputs": [],
   "source": [
    "# Only show purchases where the item cost $600 or more\n",
    "resp = requests.get(\n",
    "    url=(\"http://server:3000/\"\n",
    "         \"end_user?select=first_name,last_name,\"\n",
    "         \"purchases:purchase(transaction_date,count,item_cost,inventory(item_name))&\"\n",
    "         \"purchase.item_cost=gte.600&\"\n",
    "         \"limit=5\")\n",
    ")\n",
    "\n",
    "for entry in resp.json():\n",
    "    print(f\"{entry['first_name']} {entry['last_name']} - purchase history\")\n",
    "    for purchase in entry['purchases']:\n",
    "        dt = purchase['transaction_date']\n",
    "        n_item, item_cost = purchase['count'], purchase['item_cost']\n",
    "        total_cost = n_item * item_cost\n",
    "        item_name = purchase['inventory']['item_name']\n",
    "        print(f\" - {dt}: {n_item} {item_name} at ${item_cost:.02f} each, ${total_cost:.02f} total\")\n",
    "    print()"
   ]
  },
  {
   "cell_type": "code",
   "execution_count": null,
   "metadata": {},
   "outputs": [],
   "source": [
    "# Total sales for January 2019\n",
    "resp = requests.get(\n",
    "    url=(\"http://server:3000/\"\n",
    "         \"purchase?select=count,item_cost,transaction_date&\"\n",
    "         \"and=(transaction_date.gte.'2019-01-01',\"\n",
    "         \"transaction_date.lt.'2019-02-01')\")\n",
    ")\n",
    "assert len({\n",
    "    entry['transaction_date']\n",
    "    for entry in resp.json()\n",
    "}) <= 31\n",
    "\n",
    "total = sum([e['count']*e['item_cost'] for e in resp.json()])\n",
    "print(f\"Total sales for Jan-2019: ${total:,.2f}\")"
   ]
  },
  {
   "cell_type": "code",
   "execution_count": 72,
   "metadata": {},
   "outputs": [
    {
     "name": "stdout",
     "output_type": "stream",
     "text": [
      "create succeeded\n",
      "retrieve succeeded\n",
      "update succeeded\n",
      "re-retrieve succeeded\n",
      "delete succeeded\n",
      "confirm not present succeeded\n"
     ]
    }
   ],
   "source": [
    "def check_resp(resp, op, status_code=200, json_len=1, local_json={}):\n",
    "    assert resp.status_code == status_code, f\"{op} failed: {resp.status_code}\"\n",
    "    if status_code == 200:\n",
    "        resp_json = resp.json()\n",
    "        assert isinstance(resp_json, list)\n",
    "        l = len(resp.json())\n",
    "        assert l == json_len, f\"invalid response length {l}, should be {json_len}\"\n",
    "        for k, v in local_json.items():\n",
    "            assert resp_json[0][k] == v, \"json response not as expected\"\n",
    "    print(f\"{op} succeeded\")\n",
    "\n",
    "user_definition = {\n",
    "    \"uid\": 1000,\n",
    "    \"first_name\": \"Robert\",\n",
    "    \"last_name\": \"Paulson\",\n",
    "    \"dob\": \"1999-11-11\",\n",
    "    \"phone_number\": '12345678',\n",
    "    \"street_address\": \"420 Paper St. Wilmington DE 19886\",\n",
    "    \"email\": \"first_rule@fight.club.is\"\n",
    "}\n",
    "\n",
    "# Test all CRUD operations\n",
    "check_resp(\n",
    "    requests.post(url=\"http://server:3000/end_user\", json=user_definition), \n",
    "    \"create\", 201\n",
    ")\n",
    "check_resp(\n",
    "    requests.get(url=\"http://server:3000/end_user?uid=eq.1000\"), \n",
    "    \"retrieve\", local_json=user_definition\n",
    ")\n",
    "user_definition['phone_number'] = '87654321'\n",
    "check_resp(\n",
    "    requests.put(url=\"http://server:3000/end_user?uid=eq.1000\", json=user_definition),\n",
    "    \"update\", status_code=204\n",
    ")\n",
    "check_resp(\n",
    "    requests.get(url=\"http://server:3000/end_user?uid=eq.1000\"), \n",
    "    \"re-retrieve\", local_json=user_definition\n",
    ")\n",
    "check_resp(\n",
    "    requests.delete(\"http://server:3000/end_user?uid=eq.1000\"), \"delete\", \n",
    "    status_code=204\n",
    ")\n",
    "check_resp(\n",
    "    requests.get(url=\"http://server:3000/end_user?uid=eq.1000\"), \n",
    "    \"confirm not present\", json_len=0\n",
    ")"
   ]
  }
 ],
 "metadata": {
  "kernelspec": {
   "display_name": "Python 3",
   "language": "python",
   "name": "python3"
  },
  "language_info": {
   "codemirror_mode": {
    "name": "ipython",
    "version": 3
   },
   "file_extension": ".py",
   "mimetype": "text/x-python",
   "name": "python",
   "nbconvert_exporter": "python",
   "pygments_lexer": "ipython3",
   "version": "3.7.3"
  }
 },
 "nbformat": 4,
 "nbformat_minor": 2
}
