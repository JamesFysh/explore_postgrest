{
 "cells": [
  {
   "cell_type": "code",
   "execution_count": null,
   "metadata": {},
   "outputs": [],
   "source": [
    "import pandas as pd\n",
    "from psycopg2 import connect\n",
    "from faker import Faker\n",
    "from helpers import render_er_inline\n",
    "\n",
    "faker = Faker(locale='en-AU')\n",
    "\n",
    "PGCONN = \"postgresql://app_user:password@db/app_db\""
   ]
  },
  {
   "cell_type": "markdown",
   "metadata": {},
   "source": [
    "### Create the tables & data"
   ]
  },
  {
   "cell_type": "code",
   "execution_count": null,
   "metadata": {},
   "outputs": [],
   "source": [
    "N_USERS = 1000\n",
    "N_CARDS = 500\n",
    "N_ITEMS = 50\n",
    "N_PURCHASES = 2000\n",
    "\n",
    "user_table = pd.DataFrame(\n",
    "    [\n",
    "        {\n",
    "            \"uid\": i,\n",
    "            \"first_name\": faker.first_name(),\n",
    "            \"last_name\": faker.last_name(),\n",
    "            \"dob\": faker.date_of_birth(),\n",
    "            \"street_address\": faker.address(),\n",
    "            \"phone_number\": faker.phone_number(),\n",
    "            \"email\": faker.ascii_email(),\n",
    "            \n",
    "        }\n",
    "        for i in range(N_USERS)\n",
    "    ]\n",
    ")\n",
    "\n",
    "card_table = pd.DataFrame(\n",
    "    [\n",
    "        {\n",
    "            \"cid\": i,\n",
    "            \"uid\": faker.random_element(user_table['uid']),\n",
    "            \"card_number\": faker.credit_card_number(),\n",
    "            \"card_security\": faker.credit_card_security_code(),\n",
    "            \"card_expiry\": faker.date_between(start_date='today', end_date='+5y'),\n",
    "        }\n",
    "        for i in range(N_CARDS)\n",
    "    ]\n",
    ")\n",
    "\n",
    "def fake_item_name():\n",
    "    size = faker.random_element([\"Extra-Small\", \"Small\", \"Medium\", \"Large\", \"Extra-Large\"])\n",
    "    colour = faker.color_name()\n",
    "    thing = faker.random_element([\n",
    "        \"Toaster\", \"Fridge\", \n",
    "        \"Chair\", \"Table\", \n",
    "        \"T-Shirt\", \"Shoes\", \n",
    "        \"Bike\", \"Ball\",\n",
    "        \"DVD Movie\", \"8-Track\",\n",
    "    ])\n",
    "    return f\"{size} {colour} {thing}\"\n",
    "\n",
    "\n",
    "inventory_table = pd.DataFrame(\n",
    "    [\n",
    "        {\n",
    "            \"iid\": i,\n",
    "            \"item_code\": faker.msisdn(),\n",
    "            \"item_name\": fake_item_name(),\n",
    "            \"manufacturer\": faker.company(),\n",
    "        }\n",
    "        for i in range(N_ITEMS)\n",
    "    ]\n",
    ")\n",
    "\n",
    "purchase_table = pd.DataFrame(\n",
    "    [\n",
    "        {\n",
    "            \"pid\": i,\n",
    "            \"uid\": faker.random_element(user_table['uid']),\n",
    "            \"cid\": faker.random_element(card_table['cid']),\n",
    "            \"iid\": faker.random_element(inventory_table['iid']),\n",
    "            \"transaction_date\": faker.date_this_year(),\n",
    "            \"count\": faker.random_int(min=1, max=10),\n",
    "            \"item_cost\": faker.random_int(min=100, max=100_000)/100.,\n",
    "        }\n",
    "        for i in range(N_PURCHASES)\n",
    "    ]\n",
    ")"
   ]
  },
  {
   "cell_type": "markdown",
   "metadata": {},
   "source": [
    "### Create the tables"
   ]
  },
  {
   "cell_type": "code",
   "execution_count": null,
   "metadata": {},
   "outputs": [],
   "source": [
    "for df, table_name in [\n",
    "    (purchase_table, \"purchase\"),\n",
    "    (inventory_table, \"inventory\"),\n",
    "    (card_table, \"card\"),\n",
    "    (user_table, \"end_user\"),\n",
    "]:\n",
    "    df.to_sql(table_name, schema='public', con=PGCONN, if_exists='replace', index=False, method='multi')"
   ]
  },
  {
   "cell_type": "markdown",
   "metadata": {},
   "source": [
    "### Create primary keys, indexes, relationships"
   ]
  },
  {
   "cell_type": "code",
   "execution_count": null,
   "metadata": {},
   "outputs": [],
   "source": [
    "with connect(PGCONN) as conn:\n",
    "    cur = conn.cursor()\n",
    "    for table, col in [\n",
    "        ('end_user', 'uid'),\n",
    "        ('card', 'cid'),\n",
    "        ('inventory', 'iid'),\n",
    "        ('purchase', 'pid'),\n",
    "    ]:\n",
    "        cur.execute(f\"ALTER TABLE {table} ADD PRIMARY KEY ({col});\")\n",
    "        \n",
    "    for t, ft, col in [\n",
    "        (\"card\", \"end_user\", \"uid\"),\n",
    "        (\"purchase\", \"end_user\", \"uid\"),\n",
    "        (\"purchase\", \"card\", \"cid\"),\n",
    "        (\"purchase\", \"inventory\", \"iid\"),\n",
    "    ]:\n",
    "        cur.execute(f\"ALTER TABLE {t} ADD CONSTRAINT {t}_{col}_fk FOREIGN KEY ({col}) REFERENCES {ft} ({col});\")"
   ]
  },
  {
   "cell_type": "markdown",
   "metadata": {},
   "source": [
    "### Inspect the resulting schema"
   ]
  },
  {
   "cell_type": "code",
   "execution_count": null,
   "metadata": {},
   "outputs": [],
   "source": [
    "render_er_inline(PGCONN)"
   ]
  },
  {
   "cell_type": "code",
   "execution_count": null,
   "metadata": {},
   "outputs": [],
   "source": [
    "pd.read_sql(\"SELECT * FROM pg_tables WHERE schemaname = 'public'\", con=PGCONN)"
   ]
  },
  {
   "cell_type": "code",
   "execution_count": null,
   "metadata": {},
   "outputs": [],
   "source": [
    "pd.read_sql(\"SELECT * FROM pg_indexes WHERE schemaname = 'public'\", con=PGCONN)"
   ]
  },
  {
   "cell_type": "code",
   "execution_count": null,
   "metadata": {},
   "outputs": [],
   "source": [
    "pd.read_sql(\n",
    "    \"\"\"\n",
    "    SELECT conrelid::regclass AS table_from\n",
    "         , conname AS constraint_name\n",
    "         , pg_get_constraintdef(c.oid) as constraint_def\n",
    "    FROM   pg_constraint c\n",
    "    JOIN   pg_namespace n ON n.oid = c.connamespace\n",
    "    WHERE  contype IN ('f', 'p ')\n",
    "    AND    n.nspname = 'public' -- your schema here\n",
    "    ORDER  BY conrelid::regclass::text, contype DESC;\n",
    "    \"\"\", \n",
    "    con=PGCONN\n",
    ")"
   ]
  },
  {
   "cell_type": "markdown",
   "metadata": {},
   "source": [
    "# NOTE\n",
    "You will now need to issue \n",
    "\n",
    "`root:/ # kill -SIGUSR1 1`\n",
    "\n",
    "within the postgrest container, so that postgrest can restart, refreshing it's cache of FK relationships.\n",
    "\n",
    "If you do not do this, the REST API will not function correctly."
   ]
  }
 ],
 "metadata": {
  "kernelspec": {
   "display_name": "Python 3",
   "language": "python",
   "name": "python3"
  },
  "language_info": {
   "codemirror_mode": {
    "name": "ipython",
    "version": 3
   },
   "file_extension": ".py",
   "mimetype": "text/x-python",
   "name": "python",
   "nbconvert_exporter": "python",
   "pygments_lexer": "ipython3",
   "version": "3.7.3"
  }
 },
 "nbformat": 4,
 "nbformat_minor": 2
}
