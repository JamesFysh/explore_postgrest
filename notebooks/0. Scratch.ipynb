{
 "cells": [
  {
   "cell_type": "code",
   "execution_count": null,
   "metadata": {},
   "outputs": [],
   "source": [
    "import pandas as pd\n",
    "from psycopg2 import connect\n",
    "from faker import Faker\n",
    "from eralchemy import render_er\n",
    "from eralchemy.sqla import database_to_intermediary\n",
    "\n",
    "faker = Faker(locale='en-AU')\n",
    "\n",
    "PGCONN = \"postgresql://app_user:password@db/app_db\""
   ]
  },
  {
   "cell_type": "code",
   "execution_count": null,
   "metadata": {},
   "outputs": [],
   "source": [
    "from IPython.display import Image\n",
    "from pygraphviz import AGraph\n",
    "from eralchemy.cst import GRAPH_BEGINNING\n",
    "from eralchemy.sqla import database_to_intermediary\n",
    "\n",
    "\n",
    "def render_er_inline(db_conn_str):\n",
    "    tables, relationships = database_to_intermediary(db_conn_str)\n",
    "    t = '\\n'.join(t.to_dot() for t in tables)\n",
    "    r = '\\n'.join(r.to_dot() for r in relationships)\n",
    "    the_dot = '{}\\n{}\\n{}\\n}}'.format(GRAPH_BEGINNING, t, r)\n",
    "    return Image(AGraph(the_dot).draw(format='png', prog='dot'))\n",
    "\n",
    "\n",
    "render_er_inline(PGCONN)"
   ]
  }
 ],
 "metadata": {
  "kernelspec": {
   "display_name": "Python 3",
   "language": "python",
   "name": "python3"
  },
  "language_info": {
   "codemirror_mode": {
    "name": "ipython",
    "version": 3
   },
   "file_extension": ".py",
   "mimetype": "text/x-python",
   "name": "python",
   "nbconvert_exporter": "python",
   "pygments_lexer": "ipython3",
   "version": "3.7.3"
  }
 },
 "nbformat": 4,
 "nbformat_minor": 2
}
